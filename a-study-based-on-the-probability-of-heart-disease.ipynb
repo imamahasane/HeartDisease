{
 "cells": [
  {
   "cell_type": "markdown",
   "id": "749f3192",
   "metadata": {
    "papermill": {
     "duration": 0.024547,
     "end_time": "2022-08-01T14:41:49.990482",
     "exception": false,
     "start_time": "2022-08-01T14:41:49.965935",
     "status": "completed"
    },
    "tags": []
   },
   "source": [
    "<h1 style='text-align:center'>A Study Based on the Probability of Heart Disease<h1>\n",
    "\n",
    "## Table of Contents\n",
    "* [Introduction](#chapter1)\n",
    "    * [Where is this data set coming from?](#section_1_1)\n",
    "    * [Dataset Link](#section_1_2)\n",
    "* [Objective](#chapter2)\n",
    "* [Import Libraries & Data Collection](#chapter3)\n",
    "* [Split Data](#chapter4)    \n",
    "* [Data Exploration](#chapter5)    \n",
    "    * [Missing Data](#section_5_1)\n",
    "    * [Explanation of column name](#section_5_2)\n",
    "    * [Numerical Features Analysis](#section_5_3)\n",
    "    * [Categorical Features Analysis](#section_5_4)\n",
    "* [Data Preparation](#chapter6)    \n",
    "    * [Remove Outliers](#section_6_1)\n",
    "    * [Transform Numerical Data](#section_6_2)\n",
    "    * [Transform Categorical Data](#section_6_3)\n",
    "* [Model Train & Select](#chapter7)                    \n",
    "    * [Cross-Validation on Selected model](#section_8_1)\n",
    "    * [Tune Hyperparameters for Model](#section_8_2)\n",
    "* [Model Save](#chapter9)                "
   ]
  },
  {
   "cell_type": "markdown",
   "id": "8ebbe288",
   "metadata": {
    "papermill": {
     "duration": 0.022907,
     "end_time": "2022-08-01T14:41:50.036330",
     "exception": false,
     "start_time": "2022-08-01T14:41:50.013423",
     "status": "completed"
    },
    "tags": []
   },
   "source": [
    "## Introduction  <a class=\"anchor\" id=\"chapter1\"></a>\n",
    "<p>According to the CDC, heart disease is one of the leading causes of death for people of most races in the US (African Americans, American Indians and Alaska Natives, and white people). About half of all Americans (47%) have at least 1 of 3 key risk factors for heart disease: high blood pressure, high cholesterol, and smoking. Other key indicator include diabetic status, obesity (high BMI), not getting enough physical activity or drinking too much alcohol. Detecting and preventing the factors that have the greatest impact on heart disease is very important in healthcare. Computational developments, in turn, allow the application of machine learning methods to detect \"patterns\" from the data that can predict a patient's condition.</p>\n",
    "\n",
    "#### Where is this data set coming from? <a class=\"anchor\" id=\"section_1_1\"></a>\n",
    "<p>Originally, the dataset come from the CDC and is a major part of the Behavioral Risk Factor Surveillance System (BRFSS), which conducts annual telephone surveys to gather data on the health status of U.S. residents. As the CDC describes: \"Established in 1984 with 15 states, BRFSS now collects data in all 50 states as well as the District of Columbia and three U.S. territories. BRFSS completes more than 400,000 adult interviews each year, making it the largest continuously conducted health survey system in the world.\". The most recent dataset (as of February 15, 2022) includes data from 2020. It consists of 401,958 rows and 279 columns. The vast majority of columns are questions asked to respondents about their health status, such as \"Do you have serious difficulty walking or climbing stairs?\" or \"Have you smoked at least 100 cigarettes in your entire life? [Note: 5 packs = 100 cigarettes]\".</p>\n",
    "\n",
    "#### Dataset link <a class=\"anchor\" id=\"section_1_2\"></a> \n",
    "<a href='https://www.kaggle.com/datasets/kamilpytlak/personal-key-indicators-of-heart-disease'>https://www.kaggle.com/datasets/kamilpytlak/personal-key-indicators-of-heart-disease</a>\n"
   ]
  },
  {
   "cell_type": "markdown",
   "id": "fd2a9efc",
   "metadata": {
    "papermill": {
     "duration": 0.021273,
     "end_time": "2022-08-01T14:41:50.080828",
     "exception": false,
     "start_time": "2022-08-01T14:41:50.059555",
     "status": "completed"
    },
    "tags": []
   },
   "source": [
    "## Objective <a class=\"anchor\" id=\"chapter2\"></a> \n",
    "\n",
    "<p>To build a system using a machine learning model where any user gets the probabilities for heart disease itself by providing their personal keys.</p>"
   ]
  },
  {
   "cell_type": "markdown",
   "id": "8a8784bc",
   "metadata": {
    "papermill": {
     "duration": 0.021742,
     "end_time": "2022-08-01T14:41:50.124483",
     "exception": false,
     "start_time": "2022-08-01T14:41:50.102741",
     "status": "completed"
    },
    "tags": []
   },
   "source": [
    "## Import Libraries & Data Collection  <a class=\"anchor\" id=\"chapter3\"></a>\n"
   ]
  },
  {
   "cell_type": "code",
   "execution_count": 1,
   "id": "f56663d0",
   "metadata": {
    "_cell_guid": "b1076dfc-b9ad-4769-8c92-a6c4dae69d19",
    "_uuid": "8f2839f25d086af736a60e9eeb907d3b93b6e0e5",
    "execution": {
     "iopub.execute_input": "2022-08-01T14:41:50.170098Z",
     "iopub.status.busy": "2022-08-01T14:41:50.168732Z",
     "iopub.status.idle": "2022-08-01T14:41:53.585764Z",
     "shell.execute_reply": "2022-08-01T14:41:53.584770Z"
    },
    "papermill": {
     "duration": 3.4419,
     "end_time": "2022-08-01T14:41:53.588424",
     "exception": false,
     "start_time": "2022-08-01T14:41:50.146524",
     "status": "completed"
    },
    "tags": []
   },
   "outputs": [],
   "source": [
    "import numpy as np\n",
    "import pandas as pd\n",
    "import matplotlib.pyplot as plt\n",
    "import seaborn as sns\n",
    "import plotly.express as px\n",
    "import plotly.graph_objects as go\n",
    "from plotly.subplots import make_subplots\n",
    "from sklearn.model_selection import train_test_split, GridSearchCV, cross_val_score, cross_validate, RepeatedStratifiedKFold\n",
    "from sklearn.preprocessing import LabelEncoder, StandardScaler, KBinsDiscretizer, MinMaxScaler\n",
    "from sklearn.feature_selection import SelectKBest, chi2\n",
    "from sklearn.metrics import accuracy_score\n",
    "from sklearn.ensemble import GradientBoostingClassifier, RandomForestClassifier\n",
    "from sklearn.tree import DecisionTreeClassifier \n",
    "from sklearn.linear_model import LogisticRegression\n",
    "from sklearn.pipeline import Pipeline\n",
    "from sklearn.neural_network import MLPClassifier\n",
    "from sklearn.neighbors import KNeighborsClassifier"
   ]
  },
  {
   "cell_type": "code",
   "execution_count": 2,
   "id": "d54fb717",
   "metadata": {
    "execution": {
     "iopub.execute_input": "2022-08-01T14:41:53.622454Z",
     "iopub.status.busy": "2022-08-01T14:41:53.622150Z",
     "iopub.status.idle": "2022-08-01T14:41:54.586228Z",
     "shell.execute_reply": "2022-08-01T14:41:54.585160Z"
    },
    "papermill": {
     "duration": 0.983637,
     "end_time": "2022-08-01T14:41:54.589150",
     "exception": false,
     "start_time": "2022-08-01T14:41:53.605513",
     "status": "completed"
    },
    "tags": []
   },
   "outputs": [
    {
     "name": "stdout",
     "output_type": "stream",
     "text": [
      "This dataset have 18 columns and 319795 rows\n"
     ]
    }
   ],
   "source": [
    "data = pd.read_csv('../input/personal-key-indicators-of-heart-disease/heart_2020_cleaned.csv')\n",
    "print(f'This dataset have {data.shape[1]} columns and {data.shape[0]} rows')"
   ]
  },
  {
   "cell_type": "code",
   "execution_count": 3,
   "id": "3eac00a8",
   "metadata": {
    "execution": {
     "iopub.execute_input": "2022-08-01T14:41:54.623202Z",
     "iopub.status.busy": "2022-08-01T14:41:54.622561Z",
     "iopub.status.idle": "2022-08-01T14:41:54.652157Z",
     "shell.execute_reply": "2022-08-01T14:41:54.651123Z"
    },
    "papermill": {
     "duration": 0.049333,
     "end_time": "2022-08-01T14:41:54.654922",
     "exception": false,
     "start_time": "2022-08-01T14:41:54.605589",
     "status": "completed"
    },
    "scrolled": true,
    "tags": []
   },
   "outputs": [
    {
     "data": {
      "text/html": [
       "<div>\n",
       "<style scoped>\n",
       "    .dataframe tbody tr th:only-of-type {\n",
       "        vertical-align: middle;\n",
       "    }\n",
       "\n",
       "    .dataframe tbody tr th {\n",
       "        vertical-align: top;\n",
       "    }\n",
       "\n",
       "    .dataframe thead th {\n",
       "        text-align: right;\n",
       "    }\n",
       "</style>\n",
       "<table border=\"1\" class=\"dataframe\">\n",
       "  <thead>\n",
       "    <tr style=\"text-align: right;\">\n",
       "      <th></th>\n",
       "      <th>HeartDisease</th>\n",
       "      <th>BMI</th>\n",
       "      <th>Smoking</th>\n",
       "      <th>AlcoholDrinking</th>\n",
       "      <th>Stroke</th>\n",
       "      <th>PhysicalHealth</th>\n",
       "      <th>MentalHealth</th>\n",
       "      <th>DiffWalking</th>\n",
       "      <th>Sex</th>\n",
       "      <th>AgeCategory</th>\n",
       "      <th>Race</th>\n",
       "      <th>Diabetic</th>\n",
       "      <th>PhysicalActivity</th>\n",
       "      <th>GenHealth</th>\n",
       "      <th>SleepTime</th>\n",
       "      <th>Asthma</th>\n",
       "      <th>KidneyDisease</th>\n",
       "      <th>SkinCancer</th>\n",
       "    </tr>\n",
       "  </thead>\n",
       "  <tbody>\n",
       "    <tr>\n",
       "      <th>0</th>\n",
       "      <td>No</td>\n",
       "      <td>16.60</td>\n",
       "      <td>Yes</td>\n",
       "      <td>No</td>\n",
       "      <td>No</td>\n",
       "      <td>3.0</td>\n",
       "      <td>30.0</td>\n",
       "      <td>No</td>\n",
       "      <td>Female</td>\n",
       "      <td>55-59</td>\n",
       "      <td>White</td>\n",
       "      <td>Yes</td>\n",
       "      <td>Yes</td>\n",
       "      <td>Very good</td>\n",
       "      <td>5.0</td>\n",
       "      <td>Yes</td>\n",
       "      <td>No</td>\n",
       "      <td>Yes</td>\n",
       "    </tr>\n",
       "    <tr>\n",
       "      <th>1</th>\n",
       "      <td>No</td>\n",
       "      <td>20.34</td>\n",
       "      <td>No</td>\n",
       "      <td>No</td>\n",
       "      <td>Yes</td>\n",
       "      <td>0.0</td>\n",
       "      <td>0.0</td>\n",
       "      <td>No</td>\n",
       "      <td>Female</td>\n",
       "      <td>80 or older</td>\n",
       "      <td>White</td>\n",
       "      <td>No</td>\n",
       "      <td>Yes</td>\n",
       "      <td>Very good</td>\n",
       "      <td>7.0</td>\n",
       "      <td>No</td>\n",
       "      <td>No</td>\n",
       "      <td>No</td>\n",
       "    </tr>\n",
       "    <tr>\n",
       "      <th>2</th>\n",
       "      <td>No</td>\n",
       "      <td>26.58</td>\n",
       "      <td>Yes</td>\n",
       "      <td>No</td>\n",
       "      <td>No</td>\n",
       "      <td>20.0</td>\n",
       "      <td>30.0</td>\n",
       "      <td>No</td>\n",
       "      <td>Male</td>\n",
       "      <td>65-69</td>\n",
       "      <td>White</td>\n",
       "      <td>Yes</td>\n",
       "      <td>Yes</td>\n",
       "      <td>Fair</td>\n",
       "      <td>8.0</td>\n",
       "      <td>Yes</td>\n",
       "      <td>No</td>\n",
       "      <td>No</td>\n",
       "    </tr>\n",
       "    <tr>\n",
       "      <th>3</th>\n",
       "      <td>No</td>\n",
       "      <td>24.21</td>\n",
       "      <td>No</td>\n",
       "      <td>No</td>\n",
       "      <td>No</td>\n",
       "      <td>0.0</td>\n",
       "      <td>0.0</td>\n",
       "      <td>No</td>\n",
       "      <td>Female</td>\n",
       "      <td>75-79</td>\n",
       "      <td>White</td>\n",
       "      <td>No</td>\n",
       "      <td>No</td>\n",
       "      <td>Good</td>\n",
       "      <td>6.0</td>\n",
       "      <td>No</td>\n",
       "      <td>No</td>\n",
       "      <td>Yes</td>\n",
       "    </tr>\n",
       "    <tr>\n",
       "      <th>4</th>\n",
       "      <td>No</td>\n",
       "      <td>23.71</td>\n",
       "      <td>No</td>\n",
       "      <td>No</td>\n",
       "      <td>No</td>\n",
       "      <td>28.0</td>\n",
       "      <td>0.0</td>\n",
       "      <td>Yes</td>\n",
       "      <td>Female</td>\n",
       "      <td>40-44</td>\n",
       "      <td>White</td>\n",
       "      <td>No</td>\n",
       "      <td>Yes</td>\n",
       "      <td>Very good</td>\n",
       "      <td>8.0</td>\n",
       "      <td>No</td>\n",
       "      <td>No</td>\n",
       "      <td>No</td>\n",
       "    </tr>\n",
       "  </tbody>\n",
       "</table>\n",
       "</div>"
      ],
      "text/plain": [
       "  HeartDisease    BMI Smoking AlcoholDrinking Stroke  PhysicalHealth  \\\n",
       "0           No  16.60     Yes              No     No             3.0   \n",
       "1           No  20.34      No              No    Yes             0.0   \n",
       "2           No  26.58     Yes              No     No            20.0   \n",
       "3           No  24.21      No              No     No             0.0   \n",
       "4           No  23.71      No              No     No            28.0   \n",
       "\n",
       "   MentalHealth DiffWalking     Sex  AgeCategory   Race Diabetic  \\\n",
       "0          30.0          No  Female        55-59  White      Yes   \n",
       "1           0.0          No  Female  80 or older  White       No   \n",
       "2          30.0          No    Male        65-69  White      Yes   \n",
       "3           0.0          No  Female        75-79  White       No   \n",
       "4           0.0         Yes  Female        40-44  White       No   \n",
       "\n",
       "  PhysicalActivity  GenHealth  SleepTime Asthma KidneyDisease SkinCancer  \n",
       "0              Yes  Very good        5.0    Yes            No        Yes  \n",
       "1              Yes  Very good        7.0     No            No         No  \n",
       "2              Yes       Fair        8.0    Yes            No         No  \n",
       "3               No       Good        6.0     No            No        Yes  \n",
       "4              Yes  Very good        8.0     No            No         No  "
      ]
     },
     "execution_count": 3,
     "metadata": {},
     "output_type": "execute_result"
    }
   ],
   "source": [
    "data.head()"
   ]
  },
  {
   "cell_type": "code",
   "execution_count": 4,
   "id": "a1fa73d7",
   "metadata": {
    "execution": {
     "iopub.execute_input": "2022-08-01T14:41:54.688687Z",
     "iopub.status.busy": "2022-08-01T14:41:54.688315Z",
     "iopub.status.idle": "2022-08-01T14:41:55.124202Z",
     "shell.execute_reply": "2022-08-01T14:41:55.122629Z"
    },
    "papermill": {
     "duration": 0.455362,
     "end_time": "2022-08-01T14:41:55.126719",
     "exception": false,
     "start_time": "2022-08-01T14:41:54.671357",
     "status": "completed"
    },
    "scrolled": true,
    "tags": []
   },
   "outputs": [
    {
     "name": "stdout",
     "output_type": "stream",
     "text": [
      "<class 'pandas.core.frame.DataFrame'>\n",
      "RangeIndex: 319795 entries, 0 to 319794\n",
      "Data columns (total 18 columns):\n",
      " #   Column            Non-Null Count   Dtype  \n",
      "---  ------            --------------   -----  \n",
      " 0   HeartDisease      319795 non-null  object \n",
      " 1   BMI               319795 non-null  float64\n",
      " 2   Smoking           319795 non-null  object \n",
      " 3   AlcoholDrinking   319795 non-null  object \n",
      " 4   Stroke            319795 non-null  object \n",
      " 5   PhysicalHealth    319795 non-null  float64\n",
      " 6   MentalHealth      319795 non-null  float64\n",
      " 7   DiffWalking       319795 non-null  object \n",
      " 8   Sex               319795 non-null  object \n",
      " 9   AgeCategory       319795 non-null  object \n",
      " 10  Race              319795 non-null  object \n",
      " 11  Diabetic          319795 non-null  object \n",
      " 12  PhysicalActivity  319795 non-null  object \n",
      " 13  GenHealth         319795 non-null  object \n",
      " 14  SleepTime         319795 non-null  float64\n",
      " 15  Asthma            319795 non-null  object \n",
      " 16  KidneyDisease     319795 non-null  object \n",
      " 17  SkinCancer        319795 non-null  object \n",
      "dtypes: float64(4), object(14)\n",
      "memory usage: 43.9+ MB\n"
     ]
    }
   ],
   "source": [
    "data.info()"
   ]
  },
  {
   "cell_type": "markdown",
   "id": "67943633",
   "metadata": {
    "papermill": {
     "duration": 0.016447,
     "end_time": "2022-08-01T14:41:55.159831",
     "exception": false,
     "start_time": "2022-08-01T14:41:55.143384",
     "status": "completed"
    },
    "tags": []
   },
   "source": [
    "<a class=\"anchor\" id=\"chapter4\"></a> <h2 style='text-align: center'>Split Data</h2>"
   ]
  },
  {
   "cell_type": "code",
   "execution_count": 5,
   "id": "d5e567ac",
   "metadata": {
    "execution": {
     "iopub.execute_input": "2022-08-01T14:41:55.194355Z",
     "iopub.status.busy": "2022-08-01T14:41:55.194009Z",
     "iopub.status.idle": "2022-08-01T14:41:55.681096Z",
     "shell.execute_reply": "2022-08-01T14:41:55.680088Z"
    },
    "papermill": {
     "duration": 0.50699,
     "end_time": "2022-08-01T14:41:55.683853",
     "exception": false,
     "start_time": "2022-08-01T14:41:55.176863",
     "status": "completed"
    },
    "tags": []
   },
   "outputs": [],
   "source": [
    "# Remove duplicates from dataset\n",
    "data = data.drop_duplicates()"
   ]
  },
  {
   "cell_type": "markdown",
   "id": "1ade3e9e",
   "metadata": {
    "papermill": {
     "duration": 0.016234,
     "end_time": "2022-08-01T14:41:55.716492",
     "exception": false,
     "start_time": "2022-08-01T14:41:55.700258",
     "status": "completed"
    },
    "tags": []
   },
   "source": [
    "Let's dataset split train, validation, and test set."
   ]
  },
  {
   "cell_type": "code",
   "execution_count": 6,
   "id": "5f4e4ac1",
   "metadata": {
    "execution": {
     "iopub.execute_input": "2022-08-01T14:41:55.749984Z",
     "iopub.status.busy": "2022-08-01T14:41:55.749632Z",
     "iopub.status.idle": "2022-08-01T14:41:56.581658Z",
     "shell.execute_reply": "2022-08-01T14:41:56.580461Z"
    },
    "papermill": {
     "duration": 0.851831,
     "end_time": "2022-08-01T14:41:56.584393",
     "exception": false,
     "start_time": "2022-08-01T14:41:55.732562",
     "status": "completed"
    },
    "tags": []
   },
   "outputs": [
    {
     "name": "stdout",
     "output_type": "stream",
     "text": [
      "\n",
      "Before split: (301717, 18)\n",
      "\n",
      "After split train: (241373, 18)\n",
      "\n",
      "After split test: (60344, 18)\n",
      "\n",
      "\n",
      "Now, let's split the train set into train and validation.\n",
      "\n",
      "After split train: (193098, 18)\n",
      "\n",
      "After split validation: (48275, 18)\n"
     ]
    }
   ],
   "source": [
    "print(f\"\\nBefore split: {data.shape}\")\n",
    "\n",
    "train, test = train_test_split(data, test_size = 0.2, stratify=data[\"HeartDisease\"])\n",
    "\n",
    "print(f\"\\nAfter split train: {train.shape}\")\n",
    "print(f\"\\nAfter split test: {test.shape}\")\n",
    "\n",
    "print(\"\\n\\nNow, let's split the train set into train and validation.\")\n",
    "train, validation = train_test_split(train, test_size = 0.2)\n",
    "print(f\"\\nAfter split train: {train.shape}\")\n",
    "print(f\"\\nAfter split validation: {validation.shape}\")"
   ]
  },
  {
   "cell_type": "markdown",
   "id": "8b99197e",
   "metadata": {
    "papermill": {
     "duration": 0.016492,
     "end_time": "2022-08-01T14:41:56.617345",
     "exception": false,
     "start_time": "2022-08-01T14:41:56.600853",
     "status": "completed"
    },
    "tags": []
   },
   "source": [
    "<a class=\"anchor\" id=\"chapter5\"></a>  <h2 style='text-align: center'>Data Exploration</h2> "
   ]
  },
  {
   "cell_type": "markdown",
   "id": "31ae4e60",
   "metadata": {
    "papermill": {
     "duration": 0.016259,
     "end_time": "2022-08-01T14:41:56.649633",
     "exception": false,
     "start_time": "2022-08-01T14:41:56.633374",
     "status": "completed"
    },
    "tags": []
   },
   "source": [
    "#### Missing Data <a class=\"anchor\" id=\"section_5_1\"></a>"
   ]
  },
  {
   "cell_type": "code",
   "execution_count": 7,
   "id": "8c11388d",
   "metadata": {
    "execution": {
     "iopub.execute_input": "2022-08-01T14:41:56.685385Z",
     "iopub.status.busy": "2022-08-01T14:41:56.683748Z",
     "iopub.status.idle": "2022-08-01T14:41:57.083332Z",
     "shell.execute_reply": "2022-08-01T14:41:57.082220Z"
    },
    "papermill": {
     "duration": 0.420152,
     "end_time": "2022-08-01T14:41:57.085806",
     "exception": false,
     "start_time": "2022-08-01T14:41:56.665654",
     "status": "completed"
    },
    "tags": []
   },
   "outputs": [
    {
     "name": "stdout",
     "output_type": "stream",
     "text": [
      "The number of data that are missing from the dataset: 0\n"
     ]
    }
   ],
   "source": [
    "print('The number of data that are missing from the dataset:',data.isnull().sum().sum())"
   ]
  },
  {
   "cell_type": "markdown",
   "id": "79593628",
   "metadata": {
    "papermill": {
     "duration": 0.016702,
     "end_time": "2022-08-01T14:41:57.119358",
     "exception": false,
     "start_time": "2022-08-01T14:41:57.102656",
     "status": "completed"
    },
    "tags": []
   },
   "source": [
    "#### Explanation of column name <a class=\"anchor\" id=\"section_5_2\"></a>\n",
    "\n",
    "1. HeartDisease : Respondents that have ever reported having coronary heart disease (CHD) or myocardial infarction (MI).\n",
    "2. BMI : Body Mass Index (BMI).\n",
    "3. Smoking : Have you smoked at least 100 cigarettes in your entire life? ( The answer Yes or No ).\n",
    "4. AlcoholDrinking : Heavy drinkers (adult men having more than 14 drinks per week and adult women having more than 7 drinks per week\n",
    "5. Stroke : (Ever told) (you had) a stroke?\n",
    "6. PhysicalHealth : Now thinking about your physical health, which includes physical illness and injury, for how many days during the past 30 days was your physical health not good? (0-30 days).\n",
    "7. MentalHealth : Thinking about your mental health, for how many days during the past 30 days was your mental health not good? (0-30 days).\n",
    "8. DiffWalking : Do you have serious difficulty walking or climbing stairs?\n",
    "9. Sex : Are you male or female?\n",
    "10. AgeCategory: Fourteen-level age category.\n",
    "11. Race : Imputed race/ethnicity value.\n",
    "12. Diabetic : (Ever told) (you had) diabetes?\n",
    "13. PhysicalActivity : Adults who reported doing physical activity or exercise during the past 30 days other than their regular job.\n",
    "14. GenHealth : Would you say that in general your health is...\n",
    "15. SleepTime : On average, how many hours of sleep do you get in a 24-hour period?\n",
    "16. Asthma : (Ever told) (you had) asthma?\n",
    "17. KidneyDisease : Not including kidney stones, bladder infection or incontinence, were you ever told you had kidney disease?\n",
    "18. SkinCancer : (Ever told) (you had) skin cancer?"
   ]
  },
  {
   "cell_type": "markdown",
   "id": "58ec25d5",
   "metadata": {
    "papermill": {
     "duration": 0.01605,
     "end_time": "2022-08-01T14:41:57.152716",
     "exception": false,
     "start_time": "2022-08-01T14:41:57.136666",
     "status": "completed"
    },
    "tags": []
   },
   "source": [
    "Number of each unique values in columns."
   ]
  },
  {
   "cell_type": "code",
   "execution_count": 8,
   "id": "92237605",
   "metadata": {
    "execution": {
     "iopub.execute_input": "2022-08-01T14:41:57.188465Z",
     "iopub.status.busy": "2022-08-01T14:41:57.187569Z",
     "iopub.status.idle": "2022-08-01T14:41:57.409231Z",
     "shell.execute_reply": "2022-08-01T14:41:57.408110Z"
    },
    "papermill": {
     "duration": 0.242872,
     "end_time": "2022-08-01T14:41:57.412058",
     "exception": false,
     "start_time": "2022-08-01T14:41:57.169186",
     "status": "completed"
    },
    "tags": []
   },
   "outputs": [
    {
     "data": {
      "text/plain": [
       "HeartDisease           2\n",
       "BMI                 3295\n",
       "Smoking                2\n",
       "AlcoholDrinking        2\n",
       "Stroke                 2\n",
       "PhysicalHealth        31\n",
       "MentalHealth          31\n",
       "DiffWalking            2\n",
       "Sex                    2\n",
       "AgeCategory           13\n",
       "Race                   6\n",
       "Diabetic               4\n",
       "PhysicalActivity       2\n",
       "GenHealth              5\n",
       "SleepTime             23\n",
       "Asthma                 2\n",
       "KidneyDisease          2\n",
       "SkinCancer             2\n",
       "dtype: int64"
      ]
     },
     "execution_count": 8,
     "metadata": {},
     "output_type": "execute_result"
    }
   ],
   "source": [
    "train.nunique()"
   ]
  },
  {
   "cell_type": "markdown",
   "id": "67c6c1b9",
   "metadata": {
    "papermill": {
     "duration": 0.016171,
     "end_time": "2022-08-01T14:41:57.445691",
     "exception": false,
     "start_time": "2022-08-01T14:41:57.429520",
     "status": "completed"
    },
    "tags": []
   },
   "source": [
    "#### Numerical Features Analysis.  <a class=\"anchor\" id=\"section_5_3\"></a>"
   ]
  },
  {
   "cell_type": "code",
   "execution_count": 9,
   "id": "09889411",
   "metadata": {
    "execution": {
     "iopub.execute_input": "2022-08-01T14:41:57.479498Z",
     "iopub.status.busy": "2022-08-01T14:41:57.479177Z",
     "iopub.status.idle": "2022-08-01T14:41:57.592408Z",
     "shell.execute_reply": "2022-08-01T14:41:57.591457Z"
    },
    "papermill": {
     "duration": 0.132579,
     "end_time": "2022-08-01T14:41:57.594537",
     "exception": false,
     "start_time": "2022-08-01T14:41:57.461958",
     "status": "completed"
    },
    "tags": []
   },
   "outputs": [
    {
     "data": {
      "text/html": [
       "<style type=\"text/css\">\n",
       "#T_13f6b_row0_col0 {\n",
       "  background-color: #feca66;\n",
       "  color: #000000;\n",
       "}\n",
       "#T_13f6b_row0_col1 {\n",
       "  background-color: #fff5b5;\n",
       "  color: #000000;\n",
       "}\n",
       "#T_13f6b_row0_col2 {\n",
       "  background-color: #ffeda0;\n",
       "  color: #000000;\n",
       "}\n",
       "#T_13f6b_row0_col3, #T_13f6b_row3_col6 {\n",
       "  background-color: #fed976;\n",
       "  color: #000000;\n",
       "}\n",
       "#T_13f6b_row0_col4 {\n",
       "  background-color: #fece6a;\n",
       "  color: #000000;\n",
       "}\n",
       "#T_13f6b_row0_col5 {\n",
       "  background-color: #febf5a;\n",
       "  color: #000000;\n",
       "}\n",
       "#T_13f6b_row0_col6 {\n",
       "  background-color: #800026;\n",
       "  color: #f1f1f1;\n",
       "}\n",
       "#T_13f6b_row1_col0 {\n",
       "  background-color: #fffac0;\n",
       "  color: #000000;\n",
       "}\n",
       "#T_13f6b_row1_col1, #T_13f6b_row2_col1 {\n",
       "  background-color: #fff3ae;\n",
       "  color: #000000;\n",
       "}\n",
       "#T_13f6b_row1_col2, #T_13f6b_row1_col3, #T_13f6b_row1_col4, #T_13f6b_row2_col2, #T_13f6b_row2_col3, #T_13f6b_row2_col4 {\n",
       "  background-color: #ffffcc;\n",
       "  color: #000000;\n",
       "}\n",
       "#T_13f6b_row1_col5 {\n",
       "  background-color: #fffcc5;\n",
       "  color: #000000;\n",
       "}\n",
       "#T_13f6b_row1_col6, #T_13f6b_row2_col6 {\n",
       "  background-color: #fec561;\n",
       "  color: #000000;\n",
       "}\n",
       "#T_13f6b_row2_col0 {\n",
       "  background-color: #fff9bd;\n",
       "  color: #000000;\n",
       "}\n",
       "#T_13f6b_row2_col5 {\n",
       "  background-color: #fff9be;\n",
       "  color: #000000;\n",
       "}\n",
       "#T_13f6b_row3_col0 {\n",
       "  background-color: #fff4b2;\n",
       "  color: #000000;\n",
       "}\n",
       "#T_13f6b_row3_col1 {\n",
       "  background-color: #fffdc8;\n",
       "  color: #000000;\n",
       "}\n",
       "#T_13f6b_row3_col2 {\n",
       "  background-color: #fffec9;\n",
       "  color: #000000;\n",
       "}\n",
       "#T_13f6b_row3_col3 {\n",
       "  background-color: #fff6b6;\n",
       "  color: #000000;\n",
       "}\n",
       "#T_13f6b_row3_col4 {\n",
       "  background-color: #fff5b3;\n",
       "  color: #000000;\n",
       "}\n",
       "#T_13f6b_row3_col5 {\n",
       "  background-color: #fff3af;\n",
       "  color: #000000;\n",
       "}\n",
       "</style>\n",
       "<table id=\"T_13f6b_\">\n",
       "  <thead>\n",
       "    <tr>\n",
       "      <th class=\"blank level0\" >&nbsp;</th>\n",
       "      <th class=\"col_heading level0 col0\" >mean</th>\n",
       "      <th class=\"col_heading level0 col1\" >std</th>\n",
       "      <th class=\"col_heading level0 col2\" >min</th>\n",
       "      <th class=\"col_heading level0 col3\" >25%</th>\n",
       "      <th class=\"col_heading level0 col4\" >50%</th>\n",
       "      <th class=\"col_heading level0 col5\" >75%</th>\n",
       "      <th class=\"col_heading level0 col6\" >max</th>\n",
       "    </tr>\n",
       "  </thead>\n",
       "  <tbody>\n",
       "    <tr>\n",
       "      <th id=\"T_13f6b_level0_row0\" class=\"row_heading level0 row0\" >BMI</th>\n",
       "      <td id=\"T_13f6b_row0_col0\" class=\"data row0 col0\" >28.441318</td>\n",
       "      <td id=\"T_13f6b_row0_col1\" class=\"data row0 col1\" >6.458762</td>\n",
       "      <td id=\"T_13f6b_row0_col2\" class=\"data row0 col2\" >12.020000</td>\n",
       "      <td id=\"T_13f6b_row0_col3\" class=\"data row0 col3\" >24.030000</td>\n",
       "      <td id=\"T_13f6b_row0_col4\" class=\"data row0 col4\" >27.410000</td>\n",
       "      <td id=\"T_13f6b_row0_col5\" class=\"data row0 col5\" >31.650000</td>\n",
       "      <td id=\"T_13f6b_row0_col6\" class=\"data row0 col6\" >94.850000</td>\n",
       "    </tr>\n",
       "    <tr>\n",
       "      <th id=\"T_13f6b_level0_row1\" class=\"row_heading level0 row1\" >PhysicalHealth</th>\n",
       "      <td id=\"T_13f6b_row1_col0\" class=\"data row1 col0\" >3.597277</td>\n",
       "      <td id=\"T_13f6b_row1_col1\" class=\"data row1 col1\" >8.165332</td>\n",
       "      <td id=\"T_13f6b_row1_col2\" class=\"data row1 col2\" >0.000000</td>\n",
       "      <td id=\"T_13f6b_row1_col3\" class=\"data row1 col3\" >0.000000</td>\n",
       "      <td id=\"T_13f6b_row1_col4\" class=\"data row1 col4\" >0.000000</td>\n",
       "      <td id=\"T_13f6b_row1_col5\" class=\"data row1 col5\" >2.000000</td>\n",
       "      <td id=\"T_13f6b_row1_col6\" class=\"data row1 col6\" >30.000000</td>\n",
       "    </tr>\n",
       "    <tr>\n",
       "      <th id=\"T_13f6b_level0_row2\" class=\"row_heading level0 row2\" >MentalHealth</th>\n",
       "      <td id=\"T_13f6b_row2_col0\" class=\"data row2 col0\" >4.137604</td>\n",
       "      <td id=\"T_13f6b_row2_col1\" class=\"data row2 col1\" >8.151906</td>\n",
       "      <td id=\"T_13f6b_row2_col2\" class=\"data row2 col2\" >0.000000</td>\n",
       "      <td id=\"T_13f6b_row2_col3\" class=\"data row2 col3\" >0.000000</td>\n",
       "      <td id=\"T_13f6b_row2_col4\" class=\"data row2 col4\" >0.000000</td>\n",
       "      <td id=\"T_13f6b_row2_col5\" class=\"data row2 col5\" >4.000000</td>\n",
       "      <td id=\"T_13f6b_row2_col6\" class=\"data row2 col6\" >30.000000</td>\n",
       "    </tr>\n",
       "    <tr>\n",
       "      <th id=\"T_13f6b_level0_row3\" class=\"row_heading level0 row3\" >SleepTime</th>\n",
       "      <td id=\"T_13f6b_row3_col0\" class=\"data row3 col0\" >7.086329</td>\n",
       "      <td id=\"T_13f6b_row3_col1\" class=\"data row3 col1\" >1.467538</td>\n",
       "      <td id=\"T_13f6b_row3_col2\" class=\"data row3 col2\" >1.000000</td>\n",
       "      <td id=\"T_13f6b_row3_col3\" class=\"data row3 col3\" >6.000000</td>\n",
       "      <td id=\"T_13f6b_row3_col4\" class=\"data row3 col4\" >7.000000</td>\n",
       "      <td id=\"T_13f6b_row3_col5\" class=\"data row3 col5\" >8.000000</td>\n",
       "      <td id=\"T_13f6b_row3_col6\" class=\"data row3 col6\" >24.000000</td>\n",
       "    </tr>\n",
       "  </tbody>\n",
       "</table>\n"
      ],
      "text/plain": [
       "<pandas.io.formats.style.Styler at 0x7f556fb23750>"
      ]
     },
     "execution_count": 9,
     "metadata": {},
     "output_type": "execute_result"
    }
   ],
   "source": [
    "train.describe()[1:].T.style.background_gradient(cmap='YlOrRd', axis=None)"
   ]
  },
  {
   "cell_type": "code",
   "execution_count": 10,
   "id": "5f36a33d",
   "metadata": {
    "execution": {
     "iopub.execute_input": "2022-08-01T14:41:57.629814Z",
     "iopub.status.busy": "2022-08-01T14:41:57.628978Z",
     "iopub.status.idle": "2022-08-01T14:41:58.180204Z",
     "shell.execute_reply": "2022-08-01T14:41:58.179214Z"
    },
    "papermill": {
     "duration": 0.571519,
     "end_time": "2022-08-01T14:41:58.182863",
     "exception": false,
     "start_time": "2022-08-01T14:41:57.611344",
     "status": "completed"
    },
    "tags": []
   },
   "outputs": [
    {
     "data": {
      "image/png": "[encoded data removed]",
      "text/plain": [
       "<Figure size 1152x576 with 4 Axes>"
      ]
     },
     "metadata": {
      "needs_background": "light"
     },
     "output_type": "display_data"
    }
   ],
   "source": [
    "f, axes = plt.subplots(2, 2, figsize=(16,8))\n",
    "sns.boxplot(x=train[\"PhysicalHealth\"],  ax=axes[0,0], palette=[\"#8c1515\"])\n",
    "sns.boxplot(x=train[\"BMI\"],   ax=axes[0,1], palette=[\"#E98300\"])\n",
    "sns.boxplot(x=train[\"MentalHealth\"],   ax=axes[1,0], palette=[\"#009779\"])\n",
    "sns.boxplot(x=train[\"SleepTime\"],   ax=axes[1,1], palette=[\"#007C92\"])\n",
    "plt.show()"
   ]
  },
  {
   "cell_type": "markdown",
   "id": "45238dab",
   "metadata": {
    "papermill": {
     "duration": 0.017581,
     "end_time": "2022-08-01T14:41:58.217787",
     "exception": false,
     "start_time": "2022-08-01T14:41:58.200206",
     "status": "completed"
    },
    "tags": []
   },
   "source": [
    "Distribution of Numerical Features"
   ]
  },
  {
   "cell_type": "code",
   "execution_count": 11,
   "id": "00731ab1",
   "metadata": {
    "execution": {
     "iopub.execute_input": "2022-08-01T14:41:58.253103Z",
     "iopub.status.busy": "2022-08-01T14:41:58.252780Z",
     "iopub.status.idle": "2022-08-01T14:42:03.658232Z",
     "shell.execute_reply": "2022-08-01T14:42:03.657237Z"
    },
    "papermill": {
     "duration": 5.426321,
     "end_time": "2022-08-01T14:42:03.661106",
     "exception": false,
     "start_time": "2022-08-01T14:41:58.234785",
     "status": "completed"
    },
    "tags": []
   },
   "outputs": [
    {
     "data": {
      "image/png": "[encoded data removed]",
      "text/plain": [
       "<Figure size 1152x576 with 4 Axes>"
      ]
     },
     "metadata": {
      "needs_background": "light"
     },
     "output_type": "display_data"
    }
   ],
   "source": [
    "names = ['SleepTime', 'BMI', 'PhysicalHealth', 'MentalHealth']\n",
    "\n",
    "fig, axes = plt.subplots(2, 2, figsize=(16,8))\n",
    "\n",
    "for i,t in zip(names, axes.flatten()):\n",
    "    sns.kdeplot(x=i, data=train, ax=t, multiple=\"stack\",hue=\"HeartDisease\")\n",
    "    \n",
    "plt.show()"
   ]
  },
  {
   "cell_type": "markdown",
   "id": "fac410dd",
   "metadata": {
    "papermill": {
     "duration": 0.017591,
     "end_time": "2022-08-01T14:42:03.697290",
     "exception": false,
     "start_time": "2022-08-01T14:42:03.679699",
     "status": "completed"
    },
    "tags": []
   },
   "source": [
    "#### Categorical Features Analysis.  <a class=\"anchor\" id=\"section_5_4\"></a>"
   ]
  },
  {
   "cell_type": "code",
   "execution_count": 12,
   "id": "e33e1291",
   "metadata": {
    "execution": {
     "iopub.execute_input": "2022-08-01T14:42:03.734059Z",
     "iopub.status.busy": "2022-08-01T14:42:03.733752Z",
     "iopub.status.idle": "2022-08-01T14:42:06.719803Z",
     "shell.execute_reply": "2022-08-01T14:42:06.717651Z"
    },
    "papermill": {
     "duration": 3.007886,
     "end_time": "2022-08-01T14:42:06.722798",
     "exception": false,
     "start_time": "2022-08-01T14:42:03.714912",
     "status": "completed"
    },
    "tags": []
   },
   "outputs": [
    {
     "name": "stdout",
     "output_type": "stream",
     "text": [
      "\u001b[37;m\u001b[30;1mHeartDisease\t \u001b[34;1mNo: \u001b[35;1m91% \u001b[34;1mYes: \u001b[35;1m9%\n",
      "\u001b[48;5;254m\u001b[30;1mSmoking\t \u001b[34;1mNo: \u001b[35;1m58% \u001b[34;1mYes: \u001b[35;1m42%\n",
      "\u001b[37;m\u001b[30;1mAlcoholDrinking\t \u001b[34;1mNo: \u001b[35;1m93% \u001b[34;1mYes: \u001b[35;1m7%\n",
      "\u001b[48;5;254m\u001b[30;1mStroke\t \u001b[34;1mNo: \u001b[35;1m96% \u001b[34;1mYes: \u001b[35;1m4%\n",
      "\u001b[37;m\u001b[30;1mDiffWalking\t \u001b[34;1mNo: \u001b[35;1m85% \u001b[34;1mYes: \u001b[35;1m15%\n",
      "\u001b[48;5;254m\u001b[30;1mSex\t \u001b[34;1mFemale: \u001b[35;1m53% \u001b[34;1mMale: \u001b[35;1m47%\n",
      "\u001b[37;m\u001b[30;1mAgeCategory\t \u001b[34;1m65-69: \u001b[35;1m11% \u001b[34;1m60-64: \u001b[35;1m10% \u001b[34;1m70-74: \u001b[35;1m10% \u001b[34;1m55-59: \u001b[35;1m9% \u001b[34;1m50-54: \u001b[35;1m8% \u001b[34;1m80 or older: \u001b[35;1m8% \u001b[34;1m75-79: \u001b[35;1m7% \u001b[34;1m45-49: \u001b[35;1m7% \u001b[34;1m18-24: \u001b[35;1m7% \u001b[34;1m40-44: \u001b[35;1m7% \u001b[34;1m35-39: \u001b[35;1m6% \u001b[34;1m30-34: \u001b[35;1m6% \u001b[34;1m25-29: \u001b[35;1m5%\n",
      "\u001b[48;5;254m\u001b[30;1mRace\t \u001b[34;1mWhite: \u001b[35;1m75% \u001b[34;1mHispanic: \u001b[35;1m9% \u001b[34;1mBlack: \u001b[35;1m8% \u001b[34;1mOther: \u001b[35;1m4% \u001b[34;1mAsian: \u001b[35;1m3% \u001b[34;1mAmerican Indian/Alaskan Native: \u001b[35;1m2%\n",
      "\u001b[37;m\u001b[30;1mDiabetic\t \u001b[34;1mNo: \u001b[35;1m83% \u001b[34;1mYes: \u001b[35;1m14% \u001b[34;1mNo, borderline diabetes: \u001b[35;1m2% \u001b[34;1mYes (during pregnancy): \u001b[35;1m1%\n",
      "\u001b[48;5;254m\u001b[30;1mPhysicalActivity\t \u001b[34;1mYes: \u001b[35;1m76% \u001b[34;1mNo: \u001b[35;1m24%\n",
      "\u001b[37;m\u001b[30;1mGenHealth\t \u001b[34;1mVery good: \u001b[35;1m35% \u001b[34;1mGood: \u001b[35;1m30% \u001b[34;1mExcellent: \u001b[35;1m20% \u001b[34;1mFair: \u001b[35;1m12% \u001b[34;1mPoor: \u001b[35;1m4%\n",
      "\u001b[48;5;254m\u001b[30;1mAsthma\t \u001b[34;1mNo: \u001b[35;1m86% \u001b[34;1mYes: \u001b[35;1m14%\n",
      "\u001b[37;m\u001b[30;1mKidneyDisease\t \u001b[34;1mNo: \u001b[35;1m96% \u001b[34;1mYes: \u001b[35;1m4%\n",
      "\u001b[48;5;254m\u001b[30;1mSkinCancer\t \u001b[34;1mNo: \u001b[35;1m90% \u001b[34;1mYes: \u001b[35;1m10%\n"
     ]
    }
   ],
   "source": [
    "for c, i in enumerate(train.select_dtypes(exclude=['float64'])):    \n",
    "    color = '\\u001b[48;5;254m' if c%2 != 0 else '\\u001b[37;m'\n",
    "    s = color+'\\u001b[30;1m'+str(i) + '\\t'\n",
    "    for j in range(len(train[i].value_counts().keys())):                \n",
    "        s = s +' \\u001b[34;1m'+ str(train[i].value_counts().keys()[j]) +': \\u001b[35;1m'+ str(round(train[i].value_counts(normalize=True)[j]*100)) + '%'\n",
    "    print(s)\n",
    "            "
   ]
  },
  {
   "cell_type": "code",
   "execution_count": 13,
   "id": "09956037",
   "metadata": {
    "execution": {
     "iopub.execute_input": "2022-08-01T14:42:06.761880Z",
     "iopub.status.busy": "2022-08-01T14:42:06.761535Z",
     "iopub.status.idle": "2022-08-01T14:42:07.391560Z",
     "shell.execute_reply": "2022-08-01T14:42:07.390633Z"
    },
    "papermill": {
     "duration": 0.651974,
     "end_time": "2022-08-01T14:42:07.393752",
     "exception": false,
     "start_time": "2022-08-01T14:42:06.741778",
     "status": "completed"
    },
    "tags": []
   },
   "outputs": [
    {
     "data": {
      "image/png": "[encoded data removed]",
      "text/plain": [
       "<Figure size 936x432 with 1 Axes>"
      ]
     },
     "metadata": {
      "needs_background": "light"
     },
     "output_type": "display_data"
    }
   ],
   "source": [
    "plt.figure(figsize = (13,6))\n",
    "sns.countplot(x = 'AgeCategory', hue = 'HeartDisease', data = train, order = train['AgeCategory'].value_counts().index, palette = [\"#FF604D\",\"#009ABB\"])\n",
    "plt.title('Distribution of heart disease cases by Yes/No based on gender', fontsize=16)\n",
    "plt.show()"
   ]
  },
  {
   "cell_type": "code",
   "execution_count": 14,
   "id": "a99dfffe",
   "metadata": {
    "execution": {
     "iopub.execute_input": "2022-08-01T14:42:07.435038Z",
     "iopub.status.busy": "2022-08-01T14:42:07.434301Z",
     "iopub.status.idle": "2022-08-01T14:42:08.061123Z",
     "shell.execute_reply": "2022-08-01T14:42:08.060147Z"
    },
    "papermill": {
     "duration": 0.649405,
     "end_time": "2022-08-01T14:42:08.063360",
     "exception": false,
     "start_time": "2022-08-01T14:42:07.413955",
     "status": "completed"
    },
    "tags": []
   },
   "outputs": [
    {
     "data": {
      "image/png": "[encoded data removed]",
      "text/plain": [
       "<Figure size 936x432 with 1 Axes>"
      ]
     },
     "metadata": {
      "needs_background": "light"
     },
     "output_type": "display_data"
    }
   ],
   "source": [
    "plt.figure(figsize = (13,6))\n",
    "sns.countplot(x = 'Race', hue = 'HeartDisease', data = train, palette = [\"#7ADFA9\",\"#5E0229\"])\n",
    "plt.title('Distribution of heart disease cases by Yes/No based on Race', fontsize=16)\n",
    "plt.show()"
   ]
  },
  {
   "cell_type": "code",
   "execution_count": 15,
   "id": "1c484672",
   "metadata": {
    "execution": {
     "iopub.execute_input": "2022-08-01T14:42:08.104821Z",
     "iopub.status.busy": "2022-08-01T14:42:08.103079Z",
     "iopub.status.idle": "2022-08-01T14:42:08.683445Z",
     "shell.execute_reply": "2022-08-01T14:42:08.682464Z"
    },
    "papermill": {
     "duration": 0.603177,
     "end_time": "2022-08-01T14:42:08.685855",
     "exception": false,
     "start_time": "2022-08-01T14:42:08.082678",
     "status": "completed"
    },
    "tags": []
   },
   "outputs": [
    {
     "data": {
      "image/png": "[encoded data removed]",
      "text/plain": [
       "<Figure size 936x432 with 1 Axes>"
      ]
     },
     "metadata": {
      "needs_background": "light"
     },
     "output_type": "display_data"
    }
   ],
   "source": [
    "plt.figure(figsize = (13,6))\n",
    "sns.countplot(x = 'Diabetic', hue = 'HeartDisease', data = train, palette = [\"#FFBF00\",\"#009ABB\"])\n",
    "plt.title('Distribution of heart disease cases by Yes/No based on Diabetic', fontsize=16)\n",
    "plt.show()"
   ]
  },
  {
   "cell_type": "code",
   "execution_count": 16,
   "id": "3bb8c16c",
   "metadata": {
    "execution": {
     "iopub.execute_input": "2022-08-01T14:42:08.727657Z",
     "iopub.status.busy": "2022-08-01T14:42:08.727340Z",
     "iopub.status.idle": "2022-08-01T14:42:09.310416Z",
     "shell.execute_reply": "2022-08-01T14:42:09.309483Z"
    },
    "papermill": {
     "duration": 0.606366,
     "end_time": "2022-08-01T14:42:09.312568",
     "exception": false,
     "start_time": "2022-08-01T14:42:08.706202",
     "status": "completed"
    },
    "tags": []
   },
   "outputs": [
    {
     "data": {
      "image/png": "[encoded data removed]",
      "text/plain": [
       "<Figure size 936x432 with 1 Axes>"
      ]
     },
     "metadata": {
      "needs_background": "light"
     },
     "output_type": "display_data"
    }
   ],
   "source": [
    "plt.figure(figsize = (13,6))\n",
    "sns.countplot(x = 'Race', hue = 'HeartDisease', data = train, palette = [\"#FF604D\",\"#009ABB\"])\n",
    "plt.title('Distribution of heart disease cases by Yes/No based on Race', fontsize=16)\n",
    "plt.show()"
   ]
  },
  {
   "cell_type": "code",
   "execution_count": 17,
   "id": "39d4ab88",
   "metadata": {
    "execution": {
     "iopub.execute_input": "2022-08-01T14:42:09.354687Z",
     "iopub.status.busy": "2022-08-01T14:42:09.353861Z",
     "iopub.status.idle": "2022-08-01T14:42:09.763551Z",
     "shell.execute_reply": "2022-08-01T14:42:09.762598Z"
    },
    "papermill": {
     "duration": 0.433231,
     "end_time": "2022-08-01T14:42:09.765858",
     "exception": false,
     "start_time": "2022-08-01T14:42:09.332627",
     "status": "completed"
    },
    "tags": []
   },
   "outputs": [
    {
     "data": {
      "text/plain": [
       "['HeartDisease',\n",
       " 'Smoking',\n",
       " 'AlcoholDrinking',\n",
       " 'Stroke',\n",
       " 'DiffWalking',\n",
       " 'Sex',\n",
       " 'PhysicalActivity',\n",
       " 'Asthma',\n",
       " 'KidneyDisease',\n",
       " 'SkinCancer']"
      ]
     },
     "execution_count": 17,
     "metadata": {},
     "output_type": "execute_result"
    }
   ],
   "source": [
    "labels = [i for i in train.select_dtypes(exclude=['float64']) if len(train[i].value_counts().keys()) <= 2]\n",
    "labels"
   ]
  },
  {
   "cell_type": "code",
   "execution_count": 18,
   "id": "ba92ccb9",
   "metadata": {
    "execution": {
     "iopub.execute_input": "2022-08-01T14:42:09.807797Z",
     "iopub.status.busy": "2022-08-01T14:42:09.807450Z",
     "iopub.status.idle": "2022-08-01T14:42:17.227389Z",
     "shell.execute_reply": "2022-08-01T14:42:17.226516Z"
    },
    "papermill": {
     "duration": 7.443627,
     "end_time": "2022-08-01T14:42:17.229559",
     "exception": false,
     "start_time": "2022-08-01T14:42:09.785932",
     "status": "completed"
    },
    "tags": []
   },
   "outputs": [
    {
     "data": {
      "image/png": "[encoded data removed]",
      "text/plain": [
       "<Figure size 1152x1800 with 12 Axes>"
      ]
     },
     "metadata": {
      "needs_background": "light"
     },
     "output_type": "display_data"
    }
   ],
   "source": [
    "fig, axes = plt.subplots(4,3, figsize=(16, 25))\n",
    "\n",
    "for i,t in zip(labels, axes.flatten()):\n",
    "    sns.histplot(x=i, data=train, ax=t, hue=\"HeartDisease\", multiple=\"stack\")\n",
    "    \n",
    "plt.show()"
   ]
  },
  {
   "cell_type": "markdown",
   "id": "5eab6723",
   "metadata": {
    "papermill": {
     "duration": 0.021293,
     "end_time": "2022-08-01T14:42:17.272270",
     "exception": false,
     "start_time": "2022-08-01T14:42:17.250977",
     "status": "completed"
    },
    "tags": []
   },
   "source": [
    "<a class=\"anchor\" id=\"chapter6\"></a>  <h2 style='text-align: center'>Data Preparation</h2> "
   ]
  },
  {
   "cell_type": "markdown",
   "id": "8f333268",
   "metadata": {
    "papermill": {
     "duration": 0.021,
     "end_time": "2022-08-01T14:42:17.314294",
     "exception": false,
     "start_time": "2022-08-01T14:42:17.293294",
     "status": "completed"
    },
    "tags": []
   },
   "source": [
    "#### Remove Outliers <a class=\"anchor\" id=\"section_6_1\"></a>"
   ]
  },
  {
   "cell_type": "code",
   "execution_count": 19,
   "id": "f7530760",
   "metadata": {
    "execution": {
     "iopub.execute_input": "2022-08-01T14:42:17.358738Z",
     "iopub.status.busy": "2022-08-01T14:42:17.358104Z",
     "iopub.status.idle": "2022-08-01T14:42:17.365830Z",
     "shell.execute_reply": "2022-08-01T14:42:17.364901Z"
    },
    "papermill": {
     "duration": 0.032629,
     "end_time": "2022-08-01T14:42:17.367882",
     "exception": false,
     "start_time": "2022-08-01T14:42:17.335253",
     "status": "completed"
    },
    "tags": []
   },
   "outputs": [],
   "source": [
    "def remove_outliers(data):\n",
    "    df = data.copy()\n",
    "    # BMI \n",
    "#     lower_limit = abs(df.BMI.mean() - 2* df.BMI.std())\n",
    "#     upper_limit = abs(df.BMI.mean() + 2 * df.BMI.std())\n",
    "#     df = df[(df.BMI >= lower_limit) & (df.BMI < upper_limit)]\n",
    "    \n",
    "    # PHysical Health         \n",
    "    upper_limit = abs(df.PhysicalHealth.mean() +  2 * df.PhysicalHealth.std())\n",
    "    df = df[(df.PhysicalHealth >= 0) & (df.PhysicalHealth <= upper_limit)]\n",
    "    \n",
    "    # Mental Health         \n",
    "    upper_limit = abs(df.MentalHealth.mean() +  2 * df.MentalHealth.std())\n",
    "    df = df[(df.MentalHealth >= 0) & (df.MentalHealth <= upper_limit)]\n",
    "    \n",
    "#     # Sleep TIme\n",
    "#     lower_limit = abs(df.SleepTime.mean() - 3 * df.SleepTime.std())\n",
    "#     upper_limit = abs(df.SleepTime.mean() + 3 * df.SleepTime.std())\n",
    "#     df = df[(df.SleepTime > lower_limit) & (df.SleepTime <= upper_limit)]\n",
    "    return df"
   ]
  },
  {
   "cell_type": "markdown",
   "id": "4a25cce0",
   "metadata": {
    "papermill": {
     "duration": 0.020945,
     "end_time": "2022-08-01T14:42:17.409933",
     "exception": false,
     "start_time": "2022-08-01T14:42:17.388988",
     "status": "completed"
    },
    "tags": []
   },
   "source": [
    "#### Transform Numerical Data <a class=\"anchor\" id=\"section_6_2\"></a>"
   ]
  },
  {
   "cell_type": "code",
   "execution_count": 20,
   "id": "b1c0ebe2",
   "metadata": {
    "execution": {
     "iopub.execute_input": "2022-08-01T14:42:17.454214Z",
     "iopub.status.busy": "2022-08-01T14:42:17.453906Z",
     "iopub.status.idle": "2022-08-01T14:42:17.460163Z",
     "shell.execute_reply": "2022-08-01T14:42:17.459237Z"
    },
    "papermill": {
     "duration": 0.03128,
     "end_time": "2022-08-01T14:42:17.462252",
     "exception": false,
     "start_time": "2022-08-01T14:42:17.430972",
     "status": "completed"
    },
    "tags": []
   },
   "outputs": [],
   "source": [
    "def trainform_numerical_data(data):\n",
    "    df = data.copy()\n",
    "    est = KBinsDiscretizer(n_bins=4, encode='ordinal', strategy='uniform')\n",
    "    scaler = StandardScaler()\n",
    "\n",
    "    for i in df.select_dtypes(include=['float64']):    \n",
    "        df[i] = est.fit_transform(df[i].values.reshape(-1, 1)).astype('int64')\n",
    "    return df"
   ]
  },
  {
   "cell_type": "markdown",
   "id": "018fb12c",
   "metadata": {
    "papermill": {
     "duration": 0.020913,
     "end_time": "2022-08-01T14:42:17.503961",
     "exception": false,
     "start_time": "2022-08-01T14:42:17.483048",
     "status": "completed"
    },
    "tags": []
   },
   "source": [
    "#### Transform Categorical Data <a class=\"anchor\" id=\"section_6_3\"></a>"
   ]
  },
  {
   "cell_type": "code",
   "execution_count": 21,
   "id": "844cbab3",
   "metadata": {
    "execution": {
     "iopub.execute_input": "2022-08-01T14:42:17.547054Z",
     "iopub.status.busy": "2022-08-01T14:42:17.546745Z",
     "iopub.status.idle": "2022-08-01T14:42:17.553396Z",
     "shell.execute_reply": "2022-08-01T14:42:17.552395Z"
    },
    "papermill": {
     "duration": 0.030481,
     "end_time": "2022-08-01T14:42:17.555489",
     "exception": false,
     "start_time": "2022-08-01T14:42:17.525008",
     "status": "completed"
    },
    "tags": []
   },
   "outputs": [],
   "source": [
    "def trainform_categorical_data(data):\n",
    "    df = data.copy()\n",
    "    for i in list(df.select_dtypes(include=['object']).columns):\n",
    "        le = LabelEncoder()\n",
    "        df[i] =  le.fit_transform(df[i]).astype('int64')\n",
    "    \n",
    "    more_two_cols = ['AgeCategory', 'Race', 'Diabetic']  \n",
    "    df = pd.get_dummies(df, columns=more_two_cols, drop_first=True)\n",
    "    return df"
   ]
  },
  {
   "cell_type": "code",
   "execution_count": 22,
   "id": "2f499772",
   "metadata": {
    "execution": {
     "iopub.execute_input": "2022-08-01T14:42:17.599228Z",
     "iopub.status.busy": "2022-08-01T14:42:17.598657Z",
     "iopub.status.idle": "2022-08-01T14:42:17.604620Z",
     "shell.execute_reply": "2022-08-01T14:42:17.603605Z"
    },
    "papermill": {
     "duration": 0.030456,
     "end_time": "2022-08-01T14:42:17.606791",
     "exception": false,
     "start_time": "2022-08-01T14:42:17.576335",
     "status": "completed"
    },
    "tags": []
   },
   "outputs": [],
   "source": [
    "def data_preparation(data_frame):        \n",
    "    df = 0\n",
    "    df = data_frame.copy()\n",
    "\n",
    "    # remove outliers\n",
    "    df = remove_outliers(df)\n",
    "    \n",
    "    # Transform numarical data\n",
    "    df = trainform_numerical_data(df)\n",
    "    # Transform categorical data\n",
    "    df = trainform_categorical_data(df)    \n",
    "            \n",
    "    return df"
   ]
  },
  {
   "cell_type": "markdown",
   "id": "228c7ec8",
   "metadata": {
    "papermill": {
     "duration": 0.021231,
     "end_time": "2022-08-01T14:42:17.648800",
     "exception": false,
     "start_time": "2022-08-01T14:42:17.627569",
     "status": "completed"
    },
    "tags": []
   },
   "source": [
    "let's make prepare data for ML model."
   ]
  },
  {
   "cell_type": "code",
   "execution_count": 23,
   "id": "0bee3e25",
   "metadata": {
    "execution": {
     "iopub.execute_input": "2022-08-01T14:42:17.692569Z",
     "iopub.status.busy": "2022-08-01T14:42:17.692286Z",
     "iopub.status.idle": "2022-08-01T14:42:21.079043Z",
     "shell.execute_reply": "2022-08-01T14:42:21.078045Z"
    },
    "papermill": {
     "duration": 3.412176,
     "end_time": "2022-08-01T14:42:21.081843",
     "exception": false,
     "start_time": "2022-08-01T14:42:17.669667",
     "status": "completed"
    },
    "tags": []
   },
   "outputs": [],
   "source": [
    "data = data_preparation(data)\n",
    "train = data_preparation(train)\n",
    "test = data_preparation(test)\n",
    "validation = data_preparation(validation)"
   ]
  },
  {
   "cell_type": "code",
   "execution_count": 24,
   "id": "782765dc",
   "metadata": {
    "execution": {
     "iopub.execute_input": "2022-08-01T14:42:21.128370Z",
     "iopub.status.busy": "2022-08-01T14:42:21.127772Z",
     "iopub.status.idle": "2022-08-01T14:42:21.155684Z",
     "shell.execute_reply": "2022-08-01T14:42:21.154615Z"
    },
    "papermill": {
     "duration": 0.054202,
     "end_time": "2022-08-01T14:42:21.158296",
     "exception": false,
     "start_time": "2022-08-01T14:42:21.104094",
     "status": "completed"
    },
    "tags": []
   },
   "outputs": [],
   "source": [
    "X, y = data.loc[:, data.columns != 'HeartDisease'], data['HeartDisease']\n",
    "\n",
    "X_train, y_train = train.loc[:, train.columns != 'HeartDisease'], train['HeartDisease']\n",
    "X_test, y_test = test.loc[:, test.columns != 'HeartDisease'], test['HeartDisease']\n",
    "X_val, y_val = validation.loc[:, validation.columns != 'HeartDisease'], validation['HeartDisease']"
   ]
  },
  {
   "cell_type": "markdown",
   "id": "b8a9b12c",
   "metadata": {
    "papermill": {
     "duration": 0.021368,
     "end_time": "2022-08-01T14:42:21.201268",
     "exception": false,
     "start_time": "2022-08-01T14:42:21.179900",
     "status": "completed"
    },
    "tags": []
   },
   "source": [
    " <a class=\"anchor\" id=\"chapter7\"></a>  <h2 style='text-align: center'>Model Train & Select</h2> "
   ]
  },
  {
   "cell_type": "code",
   "execution_count": 25,
   "id": "1732967a",
   "metadata": {
    "execution": {
     "iopub.execute_input": "2022-08-01T14:42:21.244846Z",
     "iopub.status.busy": "2022-08-01T14:42:21.244503Z",
     "iopub.status.idle": "2022-08-01T14:42:21.250135Z",
     "shell.execute_reply": "2022-08-01T14:42:21.249087Z"
    },
    "papermill": {
     "duration": 0.029988,
     "end_time": "2022-08-01T14:42:21.252529",
     "exception": false,
     "start_time": "2022-08-01T14:42:21.222541",
     "status": "completed"
    },
    "tags": []
   },
   "outputs": [],
   "source": [
    "def model_pipe(model, x, y, x_test, y_test):\n",
    "    \n",
    "    pipeline = Pipeline(steps = [            \n",
    "            ('classifier', model)              \n",
    "           ])\n",
    "\n",
    "    model = pipeline.fit(x, y)\n",
    "    return model.score(x_test, y_test)    "
   ]
  },
  {
   "cell_type": "markdown",
   "id": "66682d75",
   "metadata": {
    "papermill": {
     "duration": 0.021313,
     "end_time": "2022-08-01T14:42:21.294806",
     "exception": false,
     "start_time": "2022-08-01T14:42:21.273493",
     "status": "completed"
    },
    "tags": []
   },
   "source": [
    "Select five models for training "
   ]
  },
  {
   "cell_type": "code",
   "execution_count": 26,
   "id": "ee3fe432",
   "metadata": {
    "execution": {
     "iopub.execute_input": "2022-08-01T14:42:21.338968Z",
     "iopub.status.busy": "2022-08-01T14:42:21.338663Z",
     "iopub.status.idle": "2022-08-01T14:42:21.346378Z",
     "shell.execute_reply": "2022-08-01T14:42:21.345393Z"
    },
    "papermill": {
     "duration": 0.03222,
     "end_time": "2022-08-01T14:42:21.348517",
     "exception": false,
     "start_time": "2022-08-01T14:42:21.316297",
     "status": "completed"
    },
    "tags": []
   },
   "outputs": [],
   "source": [
    "pipelines = []\n",
    "pipelines.append(('Gradient Boosting Classifier' , (Pipeline([('scaled' , StandardScaler()),('GBC' ,GradientBoostingClassifier())]))))\n",
    "pipelines.append(('Random Forest Classifier' , (Pipeline([('scaled' , StandardScaler()),('RFC' ,RandomForestClassifier())]))))\n",
    "pipelines.append(('Logistic Regression' , (Pipeline([('scaled' , StandardScaler()),('LR' ,LogisticRegression())]))))\n",
    "pipelines.append(('Decision Tree Classifier' , (Pipeline([('scaled' , StandardScaler()),('DTC' ,DecisionTreeClassifier())]))))"
   ]
  },
  {
   "cell_type": "code",
   "execution_count": 27,
   "id": "bb0370c8",
   "metadata": {
    "execution": {
     "iopub.execute_input": "2022-08-01T14:42:21.392392Z",
     "iopub.status.busy": "2022-08-01T14:42:21.392107Z",
     "iopub.status.idle": "2022-08-01T14:42:54.761153Z",
     "shell.execute_reply": "2022-08-01T14:42:54.759487Z"
    },
    "papermill": {
     "duration": 33.3939,
     "end_time": "2022-08-01T14:42:54.763961",
     "exception": false,
     "start_time": "2022-08-01T14:42:21.370061",
     "status": "completed"
    },
    "tags": []
   },
   "outputs": [
    {
     "name": "stdout",
     "output_type": "stream",
     "text": [
      "Test On validation set\n",
      "\n",
      "Gradient Boosting Classifier: 92.49\n",
      "Random Forest Classifier: 91.76\n",
      "Logistic Regression: 92.47\n",
      "Decision Tree Classifier: 90.44\n"
     ]
    }
   ],
   "source": [
    "model_name = []\n",
    "results = []\n",
    "print('Test On validation set\\n')\n",
    "for pipe ,model in pipelines:       \n",
    "    print(\"{}: {:.2f}\".format(pipe, model_pipe(model, X_train, y_train, X_val, y_val)*100))"
   ]
  },
  {
   "cell_type": "code",
   "execution_count": 28,
   "id": "53bafff2",
   "metadata": {
    "execution": {
     "iopub.execute_input": "2022-08-01T14:42:54.808701Z",
     "iopub.status.busy": "2022-08-01T14:42:54.808362Z",
     "iopub.status.idle": "2022-08-01T14:43:27.979409Z",
     "shell.execute_reply": "2022-08-01T14:43:27.978353Z"
    },
    "papermill": {
     "duration": 33.195834,
     "end_time": "2022-08-01T14:43:27.981811",
     "exception": false,
     "start_time": "2022-08-01T14:42:54.785977",
     "status": "completed"
    },
    "tags": []
   },
   "outputs": [
    {
     "name": "stdout",
     "output_type": "stream",
     "text": [
      "Test on test set\n",
      "\n",
      "Gradient Boosting Classifier: 92.30\n",
      "Random Forest Classifier: 91.51\n",
      "Logistic Regression: 92.24\n",
      "Decision Tree Classifier: 90.29\n"
     ]
    }
   ],
   "source": [
    "model_name = []\n",
    "results = []\n",
    "print('Test on test set\\n')\n",
    "for pipe ,model in pipelines:       \n",
    "    print(\"{}: {:.2f}\".format(pipe, model_pipe(model, X_train, y_train, X_test, y_test)*100))"
   ]
  },
  {
   "cell_type": "markdown",
   "id": "35bf517c",
   "metadata": {
    "papermill": {
     "duration": 0.022214,
     "end_time": "2022-08-01T14:43:28.026139",
     "exception": false,
     "start_time": "2022-08-01T14:43:28.003925",
     "status": "completed"
    },
    "tags": []
   },
   "source": [
    "#### Cross-Validation on Selected model <a class=\"anchor\" id=\"section_8_1\"></a>"
   ]
  },
  {
   "cell_type": "code",
   "execution_count": 29,
   "id": "c050b699",
   "metadata": {
    "execution": {
     "iopub.execute_input": "2022-08-01T14:43:28.071187Z",
     "iopub.status.busy": "2022-08-01T14:43:28.070347Z",
     "iopub.status.idle": "2022-08-01T14:51:37.977445Z",
     "shell.execute_reply": "2022-08-01T14:51:37.976346Z"
    },
    "papermill": {
     "duration": 489.932376,
     "end_time": "2022-08-01T14:51:37.980113",
     "exception": false,
     "start_time": "2022-08-01T14:43:28.047737",
     "status": "completed"
    },
    "tags": []
   },
   "outputs": [],
   "source": [
    "cv_results = {}\n",
    "for pipe ,model in pipelines: \n",
    "    cv = RepeatedStratifiedKFold(n_splits=4, n_repeats=3, random_state=1)\n",
    "    cv_results[pipe] = cross_val_score(model, X, y, cv=cv, scoring=('accuracy')) * 100"
   ]
  },
  {
   "cell_type": "code",
   "execution_count": 30,
   "id": "40086cea",
   "metadata": {
    "execution": {
     "iopub.execute_input": "2022-08-01T14:51:38.026450Z",
     "iopub.status.busy": "2022-08-01T14:51:38.025753Z",
     "iopub.status.idle": "2022-08-01T14:51:38.041963Z",
     "shell.execute_reply": "2022-08-01T14:51:38.041100Z"
    },
    "papermill": {
     "duration": 0.041302,
     "end_time": "2022-08-01T14:51:38.044220",
     "exception": false,
     "start_time": "2022-08-01T14:51:38.002918",
     "status": "completed"
    },
    "tags": []
   },
   "outputs": [
    {
     "data": {
      "text/html": [
       "<div>\n",
       "<style scoped>\n",
       "    .dataframe tbody tr th:only-of-type {\n",
       "        vertical-align: middle;\n",
       "    }\n",
       "\n",
       "    .dataframe tbody tr th {\n",
       "        vertical-align: top;\n",
       "    }\n",
       "\n",
       "    .dataframe thead th {\n",
       "        text-align: right;\n",
       "    }\n",
       "</style>\n",
       "<table border=\"1\" class=\"dataframe\">\n",
       "  <thead>\n",
       "    <tr style=\"text-align: right;\">\n",
       "      <th></th>\n",
       "      <th>Gradient Boosting Classifier</th>\n",
       "      <th>Random Forest Classifier</th>\n",
       "      <th>Logistic Regression</th>\n",
       "      <th>Decision Tree Classifier</th>\n",
       "    </tr>\n",
       "  </thead>\n",
       "  <tbody>\n",
       "    <tr>\n",
       "      <th>0</th>\n",
       "      <td>92.295619</td>\n",
       "      <td>91.521763</td>\n",
       "      <td>92.217923</td>\n",
       "      <td>90.437120</td>\n",
       "    </tr>\n",
       "    <tr>\n",
       "      <th>1</th>\n",
       "      <td>92.329806</td>\n",
       "      <td>91.524871</td>\n",
       "      <td>92.309605</td>\n",
       "      <td>90.379625</td>\n",
       "    </tr>\n",
       "    <tr>\n",
       "      <th>2</th>\n",
       "      <td>92.301835</td>\n",
       "      <td>91.534194</td>\n",
       "      <td>92.241232</td>\n",
       "      <td>90.404488</td>\n",
       "    </tr>\n",
       "    <tr>\n",
       "      <th>3</th>\n",
       "      <td>92.340564</td>\n",
       "      <td>91.534063</td>\n",
       "      <td>92.309485</td>\n",
       "      <td>90.335965</td>\n",
       "    </tr>\n",
       "    <tr>\n",
       "      <th>4</th>\n",
       "      <td>92.336022</td>\n",
       "      <td>91.571489</td>\n",
       "      <td>92.273864</td>\n",
       "      <td>90.435566</td>\n",
       "    </tr>\n",
       "    <tr>\n",
       "      <th>5</th>\n",
       "      <td>92.283188</td>\n",
       "      <td>91.543518</td>\n",
       "      <td>92.221031</td>\n",
       "      <td>90.382733</td>\n",
       "    </tr>\n",
       "    <tr>\n",
       "      <th>6</th>\n",
       "      <td>92.362438</td>\n",
       "      <td>91.405218</td>\n",
       "      <td>92.339129</td>\n",
       "      <td>90.427797</td>\n",
       "    </tr>\n",
       "    <tr>\n",
       "      <th>7</th>\n",
       "      <td>92.345226</td>\n",
       "      <td>91.504538</td>\n",
       "      <td>92.261313</td>\n",
       "      <td>90.309547</td>\n",
       "    </tr>\n",
       "    <tr>\n",
       "      <th>8</th>\n",
       "      <td>92.306497</td>\n",
       "      <td>91.445620</td>\n",
       "      <td>92.269203</td>\n",
       "      <td>90.440228</td>\n",
       "    </tr>\n",
       "    <tr>\n",
       "      <th>9</th>\n",
       "      <td>92.348453</td>\n",
       "      <td>91.506223</td>\n",
       "      <td>92.284742</td>\n",
       "      <td>90.315914</td>\n",
       "    </tr>\n",
       "    <tr>\n",
       "      <th>10</th>\n",
       "      <td>92.300281</td>\n",
       "      <td>91.563719</td>\n",
       "      <td>92.241232</td>\n",
       "      <td>90.407596</td>\n",
       "    </tr>\n",
       "    <tr>\n",
       "      <th>11</th>\n",
       "      <td>92.329687</td>\n",
       "      <td>91.530955</td>\n",
       "      <td>92.298608</td>\n",
       "      <td>90.513115</td>\n",
       "    </tr>\n",
       "  </tbody>\n",
       "</table>\n",
       "</div>"
      ],
      "text/plain": [
       "    Gradient Boosting Classifier  Random Forest Classifier  \\\n",
       "0                      92.295619                 91.521763   \n",
       "1                      92.329806                 91.524871   \n",
       "2                      92.301835                 91.534194   \n",
       "3                      92.340564                 91.534063   \n",
       "4                      92.336022                 91.571489   \n",
       "5                      92.283188                 91.543518   \n",
       "6                      92.362438                 91.405218   \n",
       "7                      92.345226                 91.504538   \n",
       "8                      92.306497                 91.445620   \n",
       "9                      92.348453                 91.506223   \n",
       "10                     92.300281                 91.563719   \n",
       "11                     92.329687                 91.530955   \n",
       "\n",
       "    Logistic Regression  Decision Tree Classifier  \n",
       "0             92.217923                 90.437120  \n",
       "1             92.309605                 90.379625  \n",
       "2             92.241232                 90.404488  \n",
       "3             92.309485                 90.335965  \n",
       "4             92.273864                 90.435566  \n",
       "5             92.221031                 90.382733  \n",
       "6             92.339129                 90.427797  \n",
       "7             92.261313                 90.309547  \n",
       "8             92.269203                 90.440228  \n",
       "9             92.284742                 90.315914  \n",
       "10            92.241232                 90.407596  \n",
       "11            92.298608                 90.513115  "
      ]
     },
     "execution_count": 30,
     "metadata": {},
     "output_type": "execute_result"
    }
   ],
   "source": [
    "pd.DataFrame(cv_results)"
   ]
  },
  {
   "cell_type": "markdown",
   "id": "97756941",
   "metadata": {
    "papermill": {
     "duration": 0.022064,
     "end_time": "2022-08-01T14:51:38.088539",
     "exception": false,
     "start_time": "2022-08-01T14:51:38.066475",
     "status": "completed"
    },
    "tags": []
   },
   "source": [
    "#### Tune Hyperparameters for Model <a class=\"anchor\" id=\"section_8_2\"></a>"
   ]
  },
  {
   "cell_type": "code",
   "execution_count": 31,
   "id": "c5f1d68f",
   "metadata": {
    "execution": {
     "iopub.execute_input": "2022-08-01T14:51:38.134822Z",
     "iopub.status.busy": "2022-08-01T14:51:38.134041Z",
     "iopub.status.idle": "2022-08-01T14:51:38.139466Z",
     "shell.execute_reply": "2022-08-01T14:51:38.138503Z"
    },
    "papermill": {
     "duration": 0.030433,
     "end_time": "2022-08-01T14:51:38.141640",
     "exception": false,
     "start_time": "2022-08-01T14:51:38.111207",
     "status": "completed"
    },
    "tags": []
   },
   "outputs": [],
   "source": [
    "parameters = {\n",
    "    \"n_estimators\":[50,250,32],\n",
    "    \"max_depth\":[1,3],\n",
    "    \"learning_rate\":[0.01,0.1,1,10]\n",
    "}\n",
    "\n",
    "gbc = GradientBoostingClassifier()"
   ]
  },
  {
   "cell_type": "code",
   "execution_count": 32,
   "id": "a3e883bc",
   "metadata": {
    "execution": {
     "iopub.execute_input": "2022-08-01T14:51:38.187456Z",
     "iopub.status.busy": "2022-08-01T14:51:38.187162Z",
     "iopub.status.idle": "2022-08-01T14:58:20.341510Z",
     "shell.execute_reply": "2022-08-01T14:58:20.340552Z"
    },
    "papermill": {
     "duration": 402.201694,
     "end_time": "2022-08-01T14:58:20.365654",
     "exception": false,
     "start_time": "2022-08-01T14:51:38.163960",
     "status": "completed"
    },
    "tags": []
   },
   "outputs": [
    {
     "data": {
      "text/plain": [
       "GridSearchCV(cv=2, estimator=GradientBoostingClassifier(),\n",
       "             param_grid={'learning_rate': [0.01, 0.1, 1, 10],\n",
       "                         'max_depth': [1, 3], 'n_estimators': [50, 250, 32]})"
      ]
     },
     "execution_count": 32,
     "metadata": {},
     "output_type": "execute_result"
    }
   ],
   "source": [
    "cv = GridSearchCV(gbc,parameters,cv=2)\n",
    "cv.fit(X,y)"
   ]
  },
  {
   "cell_type": "code",
   "execution_count": 33,
   "id": "d8adc5ff",
   "metadata": {
    "execution": {
     "iopub.execute_input": "2022-08-01T14:58:20.411466Z",
     "iopub.status.busy": "2022-08-01T14:58:20.411149Z",
     "iopub.status.idle": "2022-08-01T14:58:20.419083Z",
     "shell.execute_reply": "2022-08-01T14:58:20.418231Z"
    },
    "papermill": {
     "duration": 0.033395,
     "end_time": "2022-08-01T14:58:20.421221",
     "exception": false,
     "start_time": "2022-08-01T14:58:20.387826",
     "status": "completed"
    },
    "tags": []
   },
   "outputs": [],
   "source": [
    "def display(results):\n",
    "    print(f'Best parameters are: {results.best_params_}')\n",
    "    print(\"\\n\")\n",
    "    mean_score = results.cv_results_['mean_test_score']\n",
    "    std_score = results.cv_results_['std_test_score']\n",
    "    params = results.cv_results_['params']\n",
    "    for mean,std,params in zip(mean_score,std_score,params):\n",
    "        print(f'{round(mean,3)} + or -{round(std,3)} for the {params}')"
   ]
  },
  {
   "cell_type": "code",
   "execution_count": 34,
   "id": "f2cd4ad1",
   "metadata": {
    "execution": {
     "iopub.execute_input": "2022-08-01T14:58:20.466445Z",
     "iopub.status.busy": "2022-08-01T14:58:20.466158Z",
     "iopub.status.idle": "2022-08-01T14:58:20.471769Z",
     "shell.execute_reply": "2022-08-01T14:58:20.470731Z"
    },
    "papermill": {
     "duration": 0.032524,
     "end_time": "2022-08-01T14:58:20.475865",
     "exception": false,
     "start_time": "2022-08-01T14:58:20.443341",
     "status": "completed"
    },
    "tags": []
   },
   "outputs": [
    {
     "name": "stdout",
     "output_type": "stream",
     "text": [
      "Best parameters are: {'learning_rate': 0.1, 'max_depth': 3, 'n_estimators': 250}\n",
      "\n",
      "\n",
      "0.923 + or -0.0 for the {'learning_rate': 0.01, 'max_depth': 1, 'n_estimators': 50}\n",
      "0.923 + or -0.0 for the {'learning_rate': 0.01, 'max_depth': 1, 'n_estimators': 250}\n",
      "0.923 + or -0.0 for the {'learning_rate': 0.01, 'max_depth': 1, 'n_estimators': 32}\n",
      "0.923 + or -0.0 for the {'learning_rate': 0.01, 'max_depth': 3, 'n_estimators': 50}\n",
      "0.923 + or -0.0 for the {'learning_rate': 0.01, 'max_depth': 3, 'n_estimators': 250}\n",
      "0.923 + or -0.0 for the {'learning_rate': 0.01, 'max_depth': 3, 'n_estimators': 32}\n",
      "0.923 + or -0.0 for the {'learning_rate': 0.1, 'max_depth': 1, 'n_estimators': 50}\n",
      "0.923 + or -0.0 for the {'learning_rate': 0.1, 'max_depth': 1, 'n_estimators': 250}\n",
      "0.923 + or -0.0 for the {'learning_rate': 0.1, 'max_depth': 1, 'n_estimators': 32}\n",
      "0.923 + or -0.0 for the {'learning_rate': 0.1, 'max_depth': 3, 'n_estimators': 50}\n",
      "0.923 + or -0.0 for the {'learning_rate': 0.1, 'max_depth': 3, 'n_estimators': 250}\n",
      "0.923 + or -0.0 for the {'learning_rate': 0.1, 'max_depth': 3, 'n_estimators': 32}\n",
      "0.923 + or -0.0 for the {'learning_rate': 1, 'max_depth': 1, 'n_estimators': 50}\n",
      "0.923 + or -0.0 for the {'learning_rate': 1, 'max_depth': 1, 'n_estimators': 250}\n",
      "0.923 + or -0.0 for the {'learning_rate': 1, 'max_depth': 1, 'n_estimators': 32}\n",
      "0.922 + or -0.0 for the {'learning_rate': 1, 'max_depth': 3, 'n_estimators': 50}\n",
      "0.922 + or -0.0 for the {'learning_rate': 1, 'max_depth': 3, 'n_estimators': 250}\n",
      "0.922 + or -0.0 for the {'learning_rate': 1, 'max_depth': 3, 'n_estimators': 32}\n",
      "0.923 + or -0.0 for the {'learning_rate': 10, 'max_depth': 1, 'n_estimators': 50}\n",
      "0.923 + or -0.0 for the {'learning_rate': 10, 'max_depth': 1, 'n_estimators': 250}\n",
      "0.923 + or -0.0 for the {'learning_rate': 10, 'max_depth': 1, 'n_estimators': 32}\n",
      "0.199 + or -0.005 for the {'learning_rate': 10, 'max_depth': 3, 'n_estimators': 50}\n",
      "0.199 + or -0.005 for the {'learning_rate': 10, 'max_depth': 3, 'n_estimators': 250}\n",
      "0.199 + or -0.005 for the {'learning_rate': 10, 'max_depth': 3, 'n_estimators': 32}\n"
     ]
    }
   ],
   "source": [
    "display(cv)"
   ]
  },
  {
   "cell_type": "code",
   "execution_count": 35,
   "id": "fda9a70a",
   "metadata": {
    "execution": {
     "iopub.execute_input": "2022-08-01T14:58:20.522120Z",
     "iopub.status.busy": "2022-08-01T14:58:20.521499Z",
     "iopub.status.idle": "2022-08-01T14:58:20.685546Z",
     "shell.execute_reply": "2022-08-01T14:58:20.684541Z"
    },
    "papermill": {
     "duration": 0.189832,
     "end_time": "2022-08-01T14:58:20.687894",
     "exception": false,
     "start_time": "2022-08-01T14:58:20.498062",
     "status": "completed"
    },
    "tags": []
   },
   "outputs": [
    {
     "data": {
      "text/plain": [
       "92.3267758503731"
      ]
     },
     "execution_count": 35,
     "metadata": {},
     "output_type": "execute_result"
    }
   ],
   "source": [
    "cv.score(X_test, y_test) * 100"
   ]
  },
  {
   "cell_type": "markdown",
   "id": "8a060897",
   "metadata": {
    "papermill": {
     "duration": 0.022613,
     "end_time": "2022-08-01T14:58:20.733686",
     "exception": false,
     "start_time": "2022-08-01T14:58:20.711073",
     "status": "completed"
    },
    "tags": []
   },
   "source": [
    "Probability predictions"
   ]
  },
  {
   "cell_type": "code",
   "execution_count": 36,
   "id": "9dc7c4d5",
   "metadata": {
    "execution": {
     "iopub.execute_input": "2022-08-01T14:58:20.779856Z",
     "iopub.status.busy": "2022-08-01T14:58:20.779500Z",
     "iopub.status.idle": "2022-08-01T14:58:20.936692Z",
     "shell.execute_reply": "2022-08-01T14:58:20.935736Z"
    },
    "papermill": {
     "duration": 0.183138,
     "end_time": "2022-08-01T14:58:20.939340",
     "exception": false,
     "start_time": "2022-08-01T14:58:20.756202",
     "status": "completed"
    },
    "tags": []
   },
   "outputs": [],
   "source": [
    "y_pred = cv.predict_proba(X_test)"
   ]
  },
  {
   "cell_type": "code",
   "execution_count": 37,
   "id": "3fb46600",
   "metadata": {
    "execution": {
     "iopub.execute_input": "2022-08-01T14:58:20.986973Z",
     "iopub.status.busy": "2022-08-01T14:58:20.986651Z",
     "iopub.status.idle": "2022-08-01T14:58:20.997668Z",
     "shell.execute_reply": "2022-08-01T14:58:20.996761Z"
    },
    "papermill": {
     "duration": 0.036791,
     "end_time": "2022-08-01T14:58:21.000074",
     "exception": false,
     "start_time": "2022-08-01T14:58:20.963283",
     "status": "completed"
    },
    "tags": []
   },
   "outputs": [
    {
     "data": {
      "text/html": [
       "<div>\n",
       "<style scoped>\n",
       "    .dataframe tbody tr th:only-of-type {\n",
       "        vertical-align: middle;\n",
       "    }\n",
       "\n",
       "    .dataframe tbody tr th {\n",
       "        vertical-align: top;\n",
       "    }\n",
       "\n",
       "    .dataframe thead th {\n",
       "        text-align: right;\n",
       "    }\n",
       "</style>\n",
       "<table border=\"1\" class=\"dataframe\">\n",
       "  <thead>\n",
       "    <tr style=\"text-align: right;\">\n",
       "      <th></th>\n",
       "      <th>0</th>\n",
       "      <th>1</th>\n",
       "    </tr>\n",
       "  </thead>\n",
       "  <tbody>\n",
       "    <tr>\n",
       "      <th>0</th>\n",
       "      <td>97.550314</td>\n",
       "      <td>2.449686</td>\n",
       "    </tr>\n",
       "    <tr>\n",
       "      <th>1</th>\n",
       "      <td>85.704668</td>\n",
       "      <td>14.295332</td>\n",
       "    </tr>\n",
       "    <tr>\n",
       "      <th>2</th>\n",
       "      <td>91.309354</td>\n",
       "      <td>8.690646</td>\n",
       "    </tr>\n",
       "    <tr>\n",
       "      <th>3</th>\n",
       "      <td>72.635301</td>\n",
       "      <td>27.364699</td>\n",
       "    </tr>\n",
       "    <tr>\n",
       "      <th>4</th>\n",
       "      <td>57.706951</td>\n",
       "      <td>42.293049</td>\n",
       "    </tr>\n",
       "    <tr>\n",
       "      <th>5</th>\n",
       "      <td>95.088429</td>\n",
       "      <td>4.911571</td>\n",
       "    </tr>\n",
       "    <tr>\n",
       "      <th>6</th>\n",
       "      <td>95.010357</td>\n",
       "      <td>4.989643</td>\n",
       "    </tr>\n",
       "    <tr>\n",
       "      <th>7</th>\n",
       "      <td>93.987251</td>\n",
       "      <td>6.012749</td>\n",
       "    </tr>\n",
       "    <tr>\n",
       "      <th>8</th>\n",
       "      <td>97.095690</td>\n",
       "      <td>2.904310</td>\n",
       "    </tr>\n",
       "    <tr>\n",
       "      <th>9</th>\n",
       "      <td>81.144712</td>\n",
       "      <td>18.855288</td>\n",
       "    </tr>\n",
       "    <tr>\n",
       "      <th>10</th>\n",
       "      <td>95.918803</td>\n",
       "      <td>4.081197</td>\n",
       "    </tr>\n",
       "    <tr>\n",
       "      <th>11</th>\n",
       "      <td>99.083405</td>\n",
       "      <td>0.916595</td>\n",
       "    </tr>\n",
       "    <tr>\n",
       "      <th>12</th>\n",
       "      <td>98.684547</td>\n",
       "      <td>1.315453</td>\n",
       "    </tr>\n",
       "    <tr>\n",
       "      <th>13</th>\n",
       "      <td>84.580869</td>\n",
       "      <td>15.419131</td>\n",
       "    </tr>\n",
       "    <tr>\n",
       "      <th>14</th>\n",
       "      <td>92.511029</td>\n",
       "      <td>7.488971</td>\n",
       "    </tr>\n",
       "  </tbody>\n",
       "</table>\n",
       "</div>"
      ],
      "text/plain": [
       "            0          1\n",
       "0   97.550314   2.449686\n",
       "1   85.704668  14.295332\n",
       "2   91.309354   8.690646\n",
       "3   72.635301  27.364699\n",
       "4   57.706951  42.293049\n",
       "5   95.088429   4.911571\n",
       "6   95.010357   4.989643\n",
       "7   93.987251   6.012749\n",
       "8   97.095690   2.904310\n",
       "9   81.144712  18.855288\n",
       "10  95.918803   4.081197\n",
       "11  99.083405   0.916595\n",
       "12  98.684547   1.315453\n",
       "13  84.580869  15.419131\n",
       "14  92.511029   7.488971"
      ]
     },
     "execution_count": 37,
     "metadata": {},
     "output_type": "execute_result"
    }
   ],
   "source": [
    "pd.DataFrame(y_pred[:15]*100)"
   ]
  },
  {
   "cell_type": "code",
   "execution_count": 38,
   "id": "775e85dd",
   "metadata": {
    "execution": {
     "iopub.execute_input": "2022-08-01T14:58:21.049438Z",
     "iopub.status.busy": "2022-08-01T14:58:21.048798Z",
     "iopub.status.idle": "2022-08-01T14:58:21.056057Z",
     "shell.execute_reply": "2022-08-01T14:58:21.055024Z"
    },
    "papermill": {
     "duration": 0.035314,
     "end_time": "2022-08-01T14:58:21.059440",
     "exception": false,
     "start_time": "2022-08-01T14:58:21.024126",
     "status": "completed"
    },
    "tags": []
   },
   "outputs": [
    {
     "data": {
      "text/plain": [
       "8792      0\n",
       "46547     0\n",
       "58278     0\n",
       "257799    1\n",
       "199137    0\n",
       "38824     1\n",
       "179853    0\n",
       "105767    0\n",
       "61949     0\n",
       "211231    0\n",
       "93273     0\n",
       "179455    0\n",
       "160163    0\n",
       "261542    0\n",
       "284390    0\n",
       "Name: HeartDisease, dtype: int64"
      ]
     },
     "execution_count": 38,
     "metadata": {},
     "output_type": "execute_result"
    }
   ],
   "source": [
    "y_test.head(15)"
   ]
  },
  {
   "cell_type": "markdown",
   "id": "7dda231a",
   "metadata": {
    "papermill": {
     "duration": 0.022951,
     "end_time": "2022-08-01T14:58:21.105362",
     "exception": false,
     "start_time": "2022-08-01T14:58:21.082411",
     "status": "completed"
    },
    "tags": []
   },
   "source": [
    "<a class=\"anchor\" id=\"chapter9\"></a>  <h2 style='text-align: center'>Model Save</h2> "
   ]
  },
  {
   "cell_type": "code",
   "execution_count": 39,
   "id": "77dcd793",
   "metadata": {
    "execution": {
     "iopub.execute_input": "2022-08-01T14:58:21.152991Z",
     "iopub.status.busy": "2022-08-01T14:58:21.152382Z",
     "iopub.status.idle": "2022-08-01T14:58:21.157413Z",
     "shell.execute_reply": "2022-08-01T14:58:21.156543Z"
    },
    "papermill": {
     "duration": 0.030874,
     "end_time": "2022-08-01T14:58:21.159598",
     "exception": false,
     "start_time": "2022-08-01T14:58:21.128724",
     "status": "completed"
    },
    "tags": []
   },
   "outputs": [],
   "source": [
    "import pickle"
   ]
  },
  {
   "cell_type": "code",
   "execution_count": 40,
   "id": "1b64e6c6",
   "metadata": {
    "execution": {
     "iopub.execute_input": "2022-08-01T14:58:21.207663Z",
     "iopub.status.busy": "2022-08-01T14:58:21.206876Z",
     "iopub.status.idle": "2022-08-01T14:58:21.220606Z",
     "shell.execute_reply": "2022-08-01T14:58:21.219756Z"
    },
    "papermill": {
     "duration": 0.040239,
     "end_time": "2022-08-01T14:58:21.222696",
     "exception": false,
     "start_time": "2022-08-01T14:58:21.182457",
     "status": "completed"
    },
    "tags": []
   },
   "outputs": [],
   "source": [
    "filename = 'heart_disease_model.sav'\n",
    "pickle.dump(cv, open(filename, 'wb'))"
   ]
  },
  {
   "cell_type": "markdown",
   "id": "6428fc24",
   "metadata": {
    "papermill": {
     "duration": 0.022543,
     "end_time": "2022-08-01T14:58:21.268004",
     "exception": false,
     "start_time": "2022-08-01T14:58:21.245461",
     "status": "completed"
    },
    "tags": []
   },
   "source": [
    "Model Load"
   ]
  },
  {
   "cell_type": "code",
   "execution_count": 41,
   "id": "724b3fa9",
   "metadata": {
    "execution": {
     "iopub.execute_input": "2022-08-01T14:58:21.314977Z",
     "iopub.status.busy": "2022-08-01T14:58:21.314691Z",
     "iopub.status.idle": "2022-08-01T14:58:21.487733Z",
     "shell.execute_reply": "2022-08-01T14:58:21.486542Z"
    },
    "papermill": {
     "duration": 0.199471,
     "end_time": "2022-08-01T14:58:21.490517",
     "exception": false,
     "start_time": "2022-08-01T14:58:21.291046",
     "status": "completed"
    },
    "tags": []
   },
   "outputs": [
    {
     "name": "stdout",
     "output_type": "stream",
     "text": [
      "0.923267758503731\n"
     ]
    }
   ],
   "source": [
    "loaded_model = pickle.load(open(filename, 'rb'))\n",
    "result = loaded_model.score(X_test, y_test)\n",
    "print(result)"
   ]
  },
  {
   "cell_type": "code",
   "execution_count": 42,
   "id": "8322d2a1",
   "metadata": {
    "execution": {
     "iopub.execute_input": "2022-08-01T14:58:21.538952Z",
     "iopub.status.busy": "2022-08-01T14:58:21.538638Z",
     "iopub.status.idle": "2022-08-01T14:58:21.546441Z",
     "shell.execute_reply": "2022-08-01T14:58:21.545590Z"
    },
    "papermill": {
     "duration": 0.034541,
     "end_time": "2022-08-01T14:58:21.548982",
     "exception": false,
     "start_time": "2022-08-01T14:58:21.514441",
     "status": "completed"
    },
    "tags": []
   },
   "outputs": [],
   "source": [
    "pred = loaded_model.predict_proba(X_test[:1])"
   ]
  },
  {
   "cell_type": "code",
   "execution_count": 43,
   "id": "4c0b00aa",
   "metadata": {
    "execution": {
     "iopub.execute_input": "2022-08-01T14:58:21.595898Z",
     "iopub.status.busy": "2022-08-01T14:58:21.595615Z",
     "iopub.status.idle": "2022-08-01T14:58:21.601737Z",
     "shell.execute_reply": "2022-08-01T14:58:21.600802Z"
    },
    "papermill": {
     "duration": 0.032212,
     "end_time": "2022-08-01T14:58:21.603943",
     "exception": false,
     "start_time": "2022-08-01T14:58:21.571731",
     "status": "completed"
    },
    "tags": []
   },
   "outputs": [
    {
     "data": {
      "text/plain": [
       "array([[0.97550314, 0.02449686]])"
      ]
     },
     "execution_count": 43,
     "metadata": {},
     "output_type": "execute_result"
    }
   ],
   "source": [
    "pred"
   ]
  }
 ],
 "metadata": {
  "kernelspec": {
   "display_name": "Python 3",
   "language": "python",
   "name": "python3"
  },
  "language_info": {
   "codemirror_mode": {
    "name": "ipython",
    "version": 3
   },
   "file_extension": ".py",
   "mimetype": "text/x-python",
   "name": "python",
   "nbconvert_exporter": "python",
   "pygments_lexer": "ipython3",
   "version": "3.7.12"
  },
  "papermill": {
   "default_parameters": {},
   "duration": 1001.76205,
   "end_time": "2022-08-01T14:58:22.649834",
   "environment_variables": {},
   "exception": null,
   "input_path": "__notebook__.ipynb",
   "output_path": "__notebook__.ipynb",
   "parameters": {},
   "start_time": "2022-08-01T14:41:40.887784",
   "version": "2.3.4"
  }
 },
 "nbformat": 4,
 "nbformat_minor": 5
}
